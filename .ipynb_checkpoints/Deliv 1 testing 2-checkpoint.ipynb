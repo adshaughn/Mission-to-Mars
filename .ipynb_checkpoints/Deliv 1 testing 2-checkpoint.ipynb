{
 "cells": [
  {
   "cell_type": "code",
   "execution_count": 1,
   "id": "2aed8fc7",
   "metadata": {},
   "outputs": [],
   "source": [
    "# Import Splinter and BeautifulSoup\n",
    "from splinter import Browser\n",
    "from bs4 import BeautifulSoup as soup\n",
    "from webdriver_manager.chrome import ChromeDriverManager\n",
    "import pandas as pd"
   ]
  },
  {
   "cell_type": "code",
   "execution_count": 2,
   "id": "b5a2161b",
   "metadata": {},
   "outputs": [
    {
     "name": "stderr",
     "output_type": "stream",
     "text": [
      "\n",
      "\n",
      "====== WebDriver manager ======\n",
      "Current google-chrome version is 99.0.4844\n",
      "Get LATEST chromedriver version for 99.0.4844 google-chrome\n",
      "Driver [/Users/aspynshaughnessy/.wdm/drivers/chromedriver/mac64/99.0.4844.51/chromedriver] found in cache\n"
     ]
    }
   ],
   "source": [
    "#launch Chrome\n",
    "executable_path = {'executable_path': ChromeDriverManager().install()}\n",
    "browser = Browser('chrome', **executable_path, headless=False)"
   ]
  },
  {
   "cell_type": "code",
   "execution_count": 3,
   "id": "aed7f425",
   "metadata": {},
   "outputs": [],
   "source": [
    "#create url list\n",
    "\n",
    "url_list = [0]"
   ]
  },
  {
   "cell_type": "code",
   "execution_count": null,
   "id": "d5d9c6c9",
   "metadata": {},
   "outputs": [],
   "source": [
    "# for loop to gather urls\n",
    "\n",
    "hemispheres = {}\n",
    "\n",
    "for i in url_list\n",
    "\n",
    "    # Visit URL\n",
    "    url = 'https://marshemispheres.com/'\n",
    "    browser.visit(url)\n",
    "    \n",
    "    # Find and click the full image button\n",
    "    full_image_elem_1 = browser.find_by_tag('img.thumb')[1]\n",
    "    full_image_elem_1.click()\n",
    "    \n",
    "    # On new page, proceed with opening up full image\n",
    "    full_image_elem_2 = browser.find_by_text('Sample').first\n",
    "    full_image_elem_2['href']\n",
    "    \n",
    "    "
   ]
  }
 ],
 "metadata": {
  "kernelspec": {
   "display_name": "PythonData",
   "language": "python",
   "name": "pythondata"
  },
  "language_info": {
   "codemirror_mode": {
    "name": "ipython",
    "version": 3
   },
   "file_extension": ".py",
   "mimetype": "text/x-python",
   "name": "python",
   "nbconvert_exporter": "python",
   "pygments_lexer": "ipython3",
   "version": "3.7.11"
  }
 },
 "nbformat": 4,
 "nbformat_minor": 5
}
