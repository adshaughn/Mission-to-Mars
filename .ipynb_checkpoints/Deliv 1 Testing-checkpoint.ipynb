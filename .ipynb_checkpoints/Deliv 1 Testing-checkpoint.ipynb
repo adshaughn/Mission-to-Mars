{
 "cells": [
  {
   "cell_type": "code",
   "execution_count": 1,
   "id": "e37388f6",
   "metadata": {},
   "outputs": [],
   "source": [
    "# Import Splinter and BeautifulSoup\n",
    "from splinter import Browser\n",
    "from bs4 import BeautifulSoup as soup\n",
    "from webdriver_manager.chrome import ChromeDriverManager\n",
    "import pandas as pd"
   ]
  },
  {
   "cell_type": "code",
   "execution_count": 2,
   "id": "527a3dc8",
   "metadata": {},
   "outputs": [
    {
     "name": "stderr",
     "output_type": "stream",
     "text": [
      "\n",
      "\n",
      "====== WebDriver manager ======\n",
      "Current google-chrome version is 99.0.4844\n",
      "Get LATEST chromedriver version for 99.0.4844 google-chrome\n",
      "Driver [/Users/aspynshaughnessy/.wdm/drivers/chromedriver/mac64/99.0.4844.51/chromedriver] found in cache\n"
     ]
    }
   ],
   "source": [
    "executable_path = {'executable_path': ChromeDriverManager().install()}\n",
    "browser = Browser('chrome', **executable_path, headless=False)"
   ]
  },
  {
   "cell_type": "code",
   "execution_count": 3,
   "id": "1a8cff27",
   "metadata": {},
   "outputs": [],
   "source": [
    "url_list = []"
   ]
  },
  {
   "cell_type": "code",
   "execution_count": 4,
   "id": "4399e923",
   "metadata": {},
   "outputs": [],
   "source": [
    "def hemi_image(browser):\n",
    "\n",
    "    # Visit URL\n",
    "    url = 'https://marshemispheres.com/'\n",
    "    browser.visit(url)  \n",
    "    \n",
    "    for i in range(len(url_list)):\n",
    "\n",
    "        # Find and click the full image button\n",
    "        full_image_elem_1 = browser.find_by_tag('itemLink product-item')[1]\n",
    "        full_image_elem_1.click()\n",
    "\n",
    "        # On new page, proceed with opening up full image\n",
    "        full_image_elem_2 = browser.find_by_tag('_blank')[1]\n",
    "        full_image_elem_2.click()\n",
    "\n",
    "        # Parse the resulting html with soup\n",
    "        html = browser.html\n",
    "        img_soup = soup(html, 'html.parser')\n",
    "\n",
    "        # Add try/except for error handling\n",
    "        try:\n",
    "            # Find the relative image url\n",
    "            img_url_rel = img_soup.find('img', class_='fancybox-image').get('src')\n",
    "\n",
    "        except AttributeError:\n",
    "            return None\n",
    "\n",
    "        # Use the base url to create an absolute url\n",
    "        img_url = f'marshemispheres.com/images/full/{img_url_rel}'\n",
    "\n",
    "        return img_url\n",
    "    \n",
    "        print(img_soup)\n",
    "    "
   ]
  },
  {
   "cell_type": "code",
   "execution_count": 5,
   "id": "e790bcb7",
   "metadata": {},
   "outputs": [],
   "source": [
    "hemi_image(browser)"
   ]
  },
  {
   "cell_type": "code",
   "execution_count": null,
   "id": "c1a5f9e2",
   "metadata": {},
   "outputs": [],
   "source": []
  }
 ],
 "metadata": {
  "kernelspec": {
   "display_name": "PythonData",
   "language": "python",
   "name": "pythondata"
  },
  "language_info": {
   "codemirror_mode": {
    "name": "ipython",
    "version": 3
   },
   "file_extension": ".py",
   "mimetype": "text/x-python",
   "name": "python",
   "nbconvert_exporter": "python",
   "pygments_lexer": "ipython3",
   "version": "3.7.11"
  }
 },
 "nbformat": 4,
 "nbformat_minor": 5
}
