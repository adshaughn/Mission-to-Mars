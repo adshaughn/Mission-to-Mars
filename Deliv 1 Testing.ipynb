{
 "cells": [
  {
   "cell_type": "code",
   "execution_count": 10,
   "id": "90cd24ce",
   "metadata": {},
   "outputs": [],
   "source": [
    "# Import Splinter and BeautifulSoup\n",
    "from splinter import Browser\n",
    "from bs4 import BeautifulSoup as soup\n",
    "from webdriver_manager.chrome import ChromeDriverManager\n",
    "import pandas as pd"
   ]
  },
  {
   "cell_type": "code",
   "execution_count": 11,
   "id": "4475df3d",
   "metadata": {},
   "outputs": [
    {
     "name": "stderr",
     "output_type": "stream",
     "text": [
      "\n",
      "\n",
      "====== WebDriver manager ======\n",
      "Current google-chrome version is 99.0.4844\n",
      "Get LATEST chromedriver version for 99.0.4844 google-chrome\n",
      "Driver [/Users/aspynshaughnessy/.wdm/drivers/chromedriver/mac64/99.0.4844.51/chromedriver] found in cache\n"
     ]
    }
   ],
   "source": [
    "executable_path = {'executable_path': ChromeDriverManager().install()}\n",
    "browser = Browser('chrome', **executable_path, headless=False)"
   ]
  },
  {
   "cell_type": "code",
   "execution_count": 12,
   "id": "44073fc9",
   "metadata": {},
   "outputs": [],
   "source": [
    "def hemi_image(browser):\n",
    "\n",
    "    # Visit URL\n",
    "    url = 'https://marshemispheres.com/'\n",
    "    browser.visit(url)  \n",
    "    \n",
    "    for i in range(len(4)):\n",
    "\n",
    "        # Find and click the full image button\n",
    "        full_image_elem_1 = browser.find_by_tag('itemLink product-item')[1]\n",
    "        full_image_elem_1.click()\n",
    "\n",
    "        # On new page, proceed with opening up full image\n",
    "        full_image_elem_2 = browser.find_by_tag('_blank')[1]\n",
    "        full_image_elem_2.click()\n",
    "\n",
    "        # Parse the resulting html with soup\n",
    "        html = browser.html\n",
    "        img_soup = soup(html, 'html.parser')\n",
    "\n",
    "        # Add try/except for error handling\n",
    "        try:\n",
    "            # Find the relative image url\n",
    "            img_url_rel = img_soup.find('img', class_='fancybox-image').get('src')\n",
    "\n",
    "        except AttributeError:\n",
    "            return None\n",
    "\n",
    "        # Use the base url to create an absolute url\n",
    "        img_url = f'marshemispheres.com/images/full/{img_url_rel}'\n",
    "\n",
    "        return img_url\n",
    "    "
   ]
  },
  {
   "cell_type": "code",
   "execution_count": 15,
   "id": "a85204e8",
   "metadata": {},
   "outputs": [
    {
     "ename": "NameError",
     "evalue": "name 'img_soup' is not defined",
     "output_type": "error",
     "traceback": [
      "\u001b[0;31m---------------------------------------------------------------------------\u001b[0m",
      "\u001b[0;31mNameError\u001b[0m                                 Traceback (most recent call last)",
      "\u001b[0;32m/var/folders/pc/gbqjc6c53697k0fb7vf83_n40000gn/T/ipykernel_13865/1721931093.py\u001b[0m in \u001b[0;36m<module>\u001b[0;34m\u001b[0m\n\u001b[0;32m----> 1\u001b[0;31m \u001b[0mprint\u001b[0m\u001b[0;34m(\u001b[0m\u001b[0mimg_soup\u001b[0m\u001b[0;34m)\u001b[0m\u001b[0;34m\u001b[0m\u001b[0;34m\u001b[0m\u001b[0m\n\u001b[0m",
      "\u001b[0;31mNameError\u001b[0m: name 'img_soup' is not defined"
     ]
    }
   ],
   "source": [
    "print(img_soup)"
   ]
  },
  {
   "cell_type": "code",
   "execution_count": null,
   "id": "c12239fe",
   "metadata": {},
   "outputs": [],
   "source": []
  }
 ],
 "metadata": {
  "kernelspec": {
   "display_name": "PythonData",
   "language": "python",
   "name": "pythondata"
  },
  "language_info": {
   "codemirror_mode": {
    "name": "ipython",
    "version": 3
   },
   "file_extension": ".py",
   "mimetype": "text/x-python",
   "name": "python",
   "nbconvert_exporter": "python",
   "pygments_lexer": "ipython3",
   "version": "3.7.11"
  }
 },
 "nbformat": 4,
 "nbformat_minor": 5
}
